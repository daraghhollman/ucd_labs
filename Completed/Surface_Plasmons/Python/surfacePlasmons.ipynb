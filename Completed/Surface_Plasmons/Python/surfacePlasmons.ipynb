{
 "cells": [
  {
   "attachments": {},
   "cell_type": "markdown",
   "id": "d37845a5",
   "metadata": {},
   "source": [
    "# Appendix A.1 - Data Collection"
   ]
  },
  {
   "cell_type": "code",
   "execution_count": 1,
   "id": "bd8da6ef",
   "metadata": {},
   "outputs": [],
   "source": [
    "from pydaqmx_helper.adc import ADC\n",
    "from pydaqmx_helper.digital_io import Digital_IO\n",
    "import time"
   ]
  },
  {
   "cell_type": "code",
   "execution_count": 2,
   "id": "2e665fd9",
   "metadata": {},
   "outputs": [],
   "source": [
    "import matplotlib.pyplot as plt\n",
    "import numpy as np"
   ]
  },
  {
   "cell_type": "code",
   "execution_count": 3,
   "id": "4cbddc97",
   "metadata": {},
   "outputs": [],
   "source": [
    "adc = ADC()"
   ]
  },
  {
   "cell_type": "code",
   "execution_count": 4,
   "id": "9adf2c7c",
   "metadata": {},
   "outputs": [
    {
     "name": "stdout",
     "output_type": "stream",
     "text": [
      "Activated Channel 1\n",
      "[1]\n"
     ]
    }
   ],
   "source": [
    "adc.addChannels([1])\n",
    "print(adc.getActiveChannels())"
   ]
  },
  {
   "cell_type": "code",
   "execution_count": 6,
   "id": "cd00bbd3",
   "metadata": {},
   "outputs": [
    {
     "name": "stdout",
     "output_type": "stream",
     "text": [
      "Created digital output port: Dev2/port0\n"
     ]
    }
   ],
   "source": [
    "dio = Digital_IO('0', 'output')"
   ]
  },
  {
   "cell_type": "code",
   "execution_count": 23,
   "id": "a1d0abdb",
   "metadata": {},
   "outputs": [],
   "source": [
    "def SetState(state, dio=dio):\n",
    "    dio.write(state)\n",
    "\n",
    "\n",
    "def Turn(enabled, N=1, prism=False, detector=False, direction=\"cw\", doubleDetector=False, delay=0.1,\\\n",
    "         reverse=False, stationary=False):\n",
    "    \n",
    "    direction = direction.lower()\n",
    "    voltages = []*N\n",
    "    uncertainties = []*N\n",
    "    itterations = []*N\n",
    "    \n",
    "    # Enable\n",
    "    if not stationary:\n",
    "        if enabled:\n",
    "            currentState = 1\n",
    "            SetState(currentState)\n",
    "        else:\n",
    "            currentState = 1\n",
    "            SetState(0)\n",
    "            return\n",
    "    elif stationary:\n",
    "        currentState = 0\n",
    "        SetState(currentState)\n",
    "        \n",
    "    # Selecting Direction\n",
    "    if (direction == \"ccw\"):\n",
    "        currentState += 2\n",
    "        SetState(currentState)\n",
    "        \n",
    "    elif (direction == \"cw\"):\n",
    "        SetState(currentState)\n",
    "    \n",
    "    else:\n",
    "        currentState = 0\n",
    "        SetState(currentState)\n",
    "        print(\"Motor Disabled, invalid input\")\n",
    "        return\n",
    "    \n",
    "    print(\"Starting Cycle...\")\n",
    "    # Do turn cycle\n",
    "    # Delay 100 ms\n",
    "    time.sleep(0.1)\n",
    "    \n",
    "    for i in range(N):\n",
    "        print(f\"Cycle {i}/{N}\", end=\"\\r\")\n",
    "              \n",
    "        if detector:\n",
    "            # Turn motor two\n",
    "            currentState += 16\n",
    "            SetState(currentState)\n",
    "            currentState -= 16\n",
    "            SetState(currentState)\n",
    "            \n",
    "            time.sleep(delay)\n",
    "            \n",
    "            if doubleDetector:\n",
    "                currentState += 16\n",
    "                SetState(currentState)\n",
    "                currentState -= 16\n",
    "                SetState(currentState)\n",
    "                time.sleep(delay)\n",
    "                \n",
    "            if prism:\n",
    "                # Turn motor one\n",
    "                currentState += 8\n",
    "                SetState(currentState)\n",
    "                currentState -= 8\n",
    "                SetState(currentState)\n",
    "        \n",
    "        if prism and not detector:\n",
    "            # Turn motor one\n",
    "            currentState += 8\n",
    "            SetState(currentState)\n",
    "            currentState -= 8\n",
    "            SetState(currentState)\n",
    "\n",
    "            time.sleep(delay)\n",
    "        \n",
    "        time.sleep(delay)\n",
    "        \n",
    "        itterations.append(i)\n",
    "        V=adc.sampleVoltages(100, 10000)[1] # 100 samples at 10000 Hz\n",
    "        voltages.append(np.mean(V))\n",
    "        uncertainties.append(np.std(V))\n",
    "        \n",
    "        if stationary:\n",
    "            time.sleep(1)\n",
    "        \n",
    "    \n",
    "    print(\"Cycle Complete, disabling motors\")\n",
    "    currentState = 0\n",
    "    SetState(currentState)\n",
    "    \n",
    "    if reverse:\n",
    "        reverseItterations = itterations[::-1]\n",
    "        return [reverseItterations, voltages, uncertainties]\n",
    "    \n",
    "    return [itterations, voltages, uncertainties]"
   ]
  },
  {
   "cell_type": "code",
   "execution_count": 59,
   "id": "99122990",
   "metadata": {},
   "outputs": [],
   "source": [
    "Turn(False)"
   ]
  },
  {
   "cell_type": "code",
   "execution_count": 19,
   "id": "269f43f6",
   "metadata": {},
   "outputs": [
    {
     "name": "stdout",
     "output_type": "stream",
     "text": [
      "Starting Cycle...\n",
      "Cycle Complete, disabling motors\n"
     ]
    }
   ],
   "source": [
    "Turn(True, 10, prism=True, detector=False, direction=\"cw\", doubleDetector=True);"
   ]
  },
  {
   "cell_type": "code",
   "execution_count": 9,
   "id": "5430e182",
   "metadata": {},
   "outputs": [],
   "source": [
    "# Calibrate turns to degrees function\n",
    "# From calibration, the system moves 45 degrees in 1000 turns for both the prism and the detector\n",
    "\n",
    "def DegToTurns(deg):\n",
    "    ratio = 45/1000 # degrees / turns\n",
    "    return deg / ratio\n",
    "\n",
    "def TurnsToDeg(turns):\n",
    "    ratio = 45/1000 # degrees / turns\n",
    "    return turns * ratio"
   ]
  },
  {
   "cell_type": "code",
   "execution_count": 10,
   "id": "9cd2c078",
   "metadata": {},
   "outputs": [
    {
     "data": {
      "text/plain": [
       "1444.4444444444446"
      ]
     },
     "execution_count": 10,
     "metadata": {},
     "output_type": "execute_result"
    }
   ],
   "source": [
    "DegToTurns(65)"
   ]
  },
  {
   "cell_type": "code",
   "execution_count": 42,
   "id": "d38eb709",
   "metadata": {},
   "outputs": [
    {
     "name": "stdout",
     "output_type": "stream",
     "text": [
      "Red and Green Offset: 30.15\n",
      "Blue Offset: 43.65\n"
     ]
    }
   ],
   "source": [
    "print(f\"Red and Green Offset: {TurnsToDeg(670)}\")\n",
    "print(f\"Blue Offset: {TurnsToDeg(970)}\")"
   ]
  },
  {
   "cell_type": "code",
   "execution_count": 11,
   "id": "ae994c7f",
   "metadata": {},
   "outputs": [],
   "source": [
    "def WriteFile(fileName, data):\n",
    " \n",
    "    data = np.transpose(data)\n",
    "    \n",
    "    with open(fileName, \"w\") as f:\n",
    "        np.savetxt(fileName, data)"
   ]
  },
  {
   "cell_type": "code",
   "execution_count": 12,
   "id": "7a68b27e",
   "metadata": {},
   "outputs": [],
   "source": [
    "def LoadFile(path):\n",
    "    data = np.array(np.loadtxt(path))\n",
    "    return data"
   ]
  },
  {
   "cell_type": "code",
   "execution_count": 47,
   "id": "e5d57aaf",
   "metadata": {},
   "outputs": [],
   "source": [
    "def PlotFile(path):\n",
    "    data = LoadFile(path)\n",
    "        \n",
    "    plt.xlabel(\"N\")\n",
    "    plt.ylabel(\"Intensity\")\n",
    "    plt.grid()\n",
    "    plt.plot(data[:,0], data[:,1])"
   ]
  },
  {
   "cell_type": "markdown",
   "id": "da429d3c",
   "metadata": {},
   "source": [
    "# Data Acquisition"
   ]
  },
  {
   "cell_type": "code",
   "execution_count": 1,
   "id": "782362a1",
   "metadata": {},
   "outputs": [],
   "source": [
    "# Note that we assume detector needs to move twice as much as the prism\n",
    "\n",
    "# 0 deg is defined at perfect reflection, this is read at an angle of 130 deg\n",
    "# Starting with the prism at 120"
   ]
  },
  {
   "attachments": {},
   "cell_type": "markdown",
   "id": "3993437a",
   "metadata": {},
   "source": [
    "### Example data acquisition"
   ]
  },
  {
   "cell_type": "code",
   "execution_count": 80,
   "id": "f1110b9e",
   "metadata": {
    "scrolled": true
   },
   "outputs": [
    {
     "name": "stdout",
     "output_type": "stream",
     "text": [
      "Starting Cycle...\n",
      "Cycle Complete, disabling motors\n"
     ]
    }
   ],
   "source": [
    "WriteFile(\"15nm/red/red01.txt\", Turn(True, 600, prism=True, detector=True, direction=\"cw\", doubleDetector=True))"
   ]
  },
  {
   "cell_type": "code",
   "execution_count": 81,
   "id": "33cd6c69",
   "metadata": {},
   "outputs": [
    {
     "data": {
      "image/png": "[encoded data removed]",
      "text/plain": [
       "<Figure size 432x288 with 1 Axes>"
      ]
     },
     "metadata": {
      "needs_background": "light"
     },
     "output_type": "display_data"
    }
   ],
   "source": [
    "PlotFile(\"15nm/red/red01.txt\")"
   ]
  }
 ],
 "metadata": {
  "kernelspec": {
   "display_name": "Python 3",
   "language": "python",
   "name": "python3"
  },
  "language_info": {
   "codemirror_mode": {
    "name": "ipython",
    "version": 3
   },
   "file_extension": ".py",
   "mimetype": "text/x-python",
   "name": "python",
   "nbconvert_exporter": "python",
   "pygments_lexer": "ipython3",
   "version": "3.10.6 (main, Nov 14 2022, 16:10:14) [GCC 11.3.0]"
  },
  "vscode": {
   "interpreter": {
    "hash": "916dbcbb3f70747c44a77c7bcd40155683ae19c65e1c03b4aa3499c5328201f1"
   }
  }
 },
 "nbformat": 4,
 "nbformat_minor": 5
}
