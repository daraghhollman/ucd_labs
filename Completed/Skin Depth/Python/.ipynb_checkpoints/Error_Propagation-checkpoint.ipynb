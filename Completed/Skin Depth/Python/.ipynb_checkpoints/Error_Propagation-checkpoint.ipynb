{
 "cells": [
  {
   "cell_type": "markdown",
   "id": "6d446811",
   "metadata": {},
   "source": [
    "# Appendix 2 - Python Notebook (Error Propagation)\n",
    "Defining functions to calculate the error on conductivity for each cylinder"
   ]
  },
  {
   "cell_type": "code",
   "execution_count": 15,
   "id": "ddcde1b7",
   "metadata": {},
   "outputs": [],
   "source": [
    "import numpy as np"
   ]
  },
  {
   "cell_type": "code",
   "execution_count": 16,
   "id": "0bdec6f2",
   "metadata": {},
   "outputs": [],
   "source": [
    "#####################################\n",
    "##    Defining Global Variables    ##\n",
    "#####################################\n",
    "\n",
    "solenoidLength = 389 # mm,  Measured with a (broken) meter stick, unceratinty 0.5 mm\n",
    "solenoidTurns = 856 # 11 per 5 mm => 856, uncertainty +/- 1 per 5 mm therefore +/- 78 on total\n",
    "cylinderTurns = 100 # uncertainty +/- 10, as described by demonstrater Joe\n",
    "cylinderRadius = 9.6 /2 # mm, Measured with a vernier calipers, uncertainty 0.25 mm\n",
    "\n",
    "slopes = [3.183e-5, 4.55e-5, 10.01e-5, 167.057e-5] # for copper, aluminium, brass and steel respectivly"
   ]
  },
  {
   "cell_type": "code",
   "execution_count": 40,
   "id": "dc1e6bfd",
   "metadata": {},
   "outputs": [],
   "source": [
    "##############################\n",
    "##    Defining Functions    ##\n",
    "##############################\n",
    "\n",
    "def ds_dN1(mu, m):\n",
    "    return 16 * np.pi**3 * cylinderTurns**2 * mu * solenoidTurns * (19e-3)**2 * (cylinderRadius*10**-3)**2 / \\\n",
    "            ( m**2 * (solenoidLength*10**-3)**2)"
   ]
  },
  {
   "cell_type": "code",
   "execution_count": 41,
   "id": "7bdada6a",
   "metadata": {},
   "outputs": [],
   "source": [
    "def ds_dN2(mu, m):\n",
    "    return 16 * np.pi**3 * cylinderTurns * mu * solenoidTurns**2 * (19e-3)**2 * (cylinderRadius*10**-3)**2 / \\\n",
    "            ( m**2 * (solenoidLength*10**-3)**2)"
   ]
  },
  {
   "cell_type": "code",
   "execution_count": 42,
   "id": "5dbd7e08",
   "metadata": {},
   "outputs": [],
   "source": [
    "def ds_dI(mu, m):\n",
    "    return 16 * np.pi**3 * cylinderTurns**2 * mu * solenoidTurns**2 * (19e-3) * (cylinderRadius*10**-3)**2 / \\\n",
    "            ( m**2 * (solenoidLength*10**-3)**2)"
   ]
  },
  {
   "cell_type": "code",
   "execution_count": 43,
   "id": "86f683d8",
   "metadata": {},
   "outputs": [],
   "source": [
    "def ds_dm(mu, m):\n",
    "    return - 16 * np.pi**3 * cylinderTurns**2 * mu * solenoidTurns**2 * (19e-3)**2 * (cylinderRadius*10**-3)**2 / \\\n",
    "            ( m**3 * (solenoidLength*10**-3)**2)"
   ]
  },
  {
   "cell_type": "code",
   "execution_count": 44,
   "id": "4bffe1d4",
   "metadata": {},
   "outputs": [],
   "source": [
    "def ds_dL(mu, m):\n",
    "    return - 16 * np.pi**3 * cylinderTurns**2 * mu * solenoidTurns**2 * (19e-3)**2 * (cylinderRadius*10**-3)**2 / \\\n",
    "            ( m**2 * (solenoidLength*10**-3)**3)"
   ]
  },
  {
   "cell_type": "code",
   "execution_count": 45,
   "id": "a2d098e1",
   "metadata": {},
   "outputs": [],
   "source": [
    "def ds_dR(mu, m):\n",
    "    return 16 * np.pi**3 * cylinderTurns**2 * mu * solenoidTurns**2 * (19e-3)**2 * cylinderRadius*10**-3 / \\\n",
    "            ( m**2 * (solenoidLength*10**-3)**2)"
   ]
  },
  {
   "cell_type": "code",
   "execution_count": 46,
   "id": "c4a9c856",
   "metadata": {},
   "outputs": [],
   "source": [
    "##################################\n",
    "##    Defining Uncertainties    ##\n",
    "##################################\n",
    "\n",
    "# coils, N1 = primary, N2 = pick-up\n",
    "uTurns1 = 78\n",
    "uTurns2 = 10\n",
    "uCurrent = 0.1e-3 # amps\n",
    "uSlope = [5.266e-6, 1.26e-6, 1.776e-6, 6.838e-5] # for copper, aluminium, brass and steel respectivly\n",
    "uL = 0.5e-3 # m\n",
    "uR = 0.25e-3 # m"
   ]
  },
  {
   "cell_type": "code",
   "execution_count": 47,
   "id": "08be9c93",
   "metadata": {},
   "outputs": [],
   "source": [
    "########################\n",
    "##    Calculations    ##\n",
    "########################\n",
    "\n",
    "# calculating total uncertainty, inputs are a list of calculated derivatives and a list of the coresponding uncertainties\n",
    "# as detailed by the error propagation formula\n",
    "def uncertaintyPropagation(derivativesList, uncertainties):\n",
    "    total = 0\n",
    "    \n",
    "    i=0\n",
    "    while i < len(uncertainties):\n",
    "        total += derivativesList[i]**2 * uncertainties[i]**2\n",
    "        \n",
    "        i+=1\n",
    "    \n",
    "    return np.sqrt(total)"
   ]
  },
  {
   "cell_type": "code",
   "execution_count": 59,
   "id": "8445a160",
   "metadata": {},
   "outputs": [],
   "source": [
    "# calling the derivative functions and defining lists for each metal\n",
    "# lists are defined in order that they are defined in the \"Defining Uncertainties\" section\n",
    "\n",
    "copperUncertainties = [uTurns1, uTurns2, uCurrent, uSlope[0], uL, uR]\n",
    "copperDerivativesList = [ds_dN1(1.257e-6, slopes[0]), ds_dN2(1.257e-6, slopes[0]), ds_dI(1.257e-6, slopes[0]), \\\n",
    "                         ds_dm(1.257e-6, slopes[0]), ds_dL(1.257e-6, slopes[0]), ds_dR(1.257e-6, slopes[0])]\n",
    "\n",
    "aluminiumUncertainties = [uTurns1, uTurns2, uCurrent, uSlope[1], uL, uR]\n",
    "aluminiumDerivativesList = [ds_dN1(1.257e-6, slopes[1]), ds_dN2(1.257e-6, slopes[1]), ds_dI(1.257e-6, slopes[1]), \\\n",
    "                         ds_dm(1.257e-6, slopes[1]), ds_dL(1.257e-6, slopes[1]), ds_dR(1.257e-6, slopes[1])]\n",
    "\n",
    "brassUncertainties = [uTurns1, uTurns2, uCurrent, uSlope[2], uL, uR]\n",
    "brassDerivativesList = [ds_dN1(1.257e-6, slopes[2]), ds_dN2(1.257e-6, slopes[2]), ds_dI(1.257e-6, slopes[2]), \\\n",
    "                         ds_dm(1.257e-6, slopes[2]), ds_dL(1.257e-6, slopes[2]), ds_dR(1.257e-6, slopes[2])]\n",
    "\n",
    "# Steel has a higher permeability => mu = mu0 * 100\n",
    "steelUncertainties = [uTurns1, uTurns2, uCurrent, uSlope[3], uL, uR]\n",
    "steelDerivativesList = [ds_dN1(1.257e-6 * 100, slopes[3]), ds_dN2(1.257e-6 * 100, slopes[3]), \\\n",
    "                        ds_dI(1.257e-6 * 100, slopes[3]), ds_dm(1.257e-6 * 100, slopes[3]), \\\n",
    "                        ds_dL(1.257e-6 * 100, slopes[3]), ds_dR(1.257e-6 * 100, slopes[3])]"
   ]
  },
  {
   "cell_type": "code",
   "execution_count": 60,
   "id": "768f66e2",
   "metadata": {},
   "outputs": [
    {
     "name": "stdout",
     "output_type": "stream",
     "text": [
      "1356511.1240701764\n"
     ]
    }
   ],
   "source": [
    "uCopperConductivity = uncertaintyPropagation(copperDerivativesList, copperUncertainties)\n",
    "uAluminiumConductivity = uncertaintyPropagation(aluminiumDerivativesList, aluminiumUncertainties)\n",
    "uBrassConductivity = uncertaintyPropagation(brassDerivativesList, brassUncertainties)\n",
    "uSteelConductivity = uncertaintyPropagation(steelDerivativesList, steelUncertainties)"
   ]
  },
  {
   "cell_type": "code",
   "execution_count": null,
   "id": "5db17f51",
   "metadata": {},
   "outputs": [],
   "source": []
  }
 ],
 "metadata": {
  "kernelspec": {
   "display_name": "Python 3",
   "language": "python",
   "name": "python3"
  },
  "language_info": {
   "codemirror_mode": {
    "name": "ipython",
    "version": 3
   },
   "file_extension": ".py",
   "mimetype": "text/x-python",
   "name": "python",
   "nbconvert_exporter": "python",
   "pygments_lexer": "ipython3",
   "version": "3.8.8"
  }
 },
 "nbformat": 4,
 "nbformat_minor": 5
}
