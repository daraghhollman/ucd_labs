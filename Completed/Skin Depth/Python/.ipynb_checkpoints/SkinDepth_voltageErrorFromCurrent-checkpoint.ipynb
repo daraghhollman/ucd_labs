{
 "cells": [
  {
   "cell_type": "code",
   "execution_count": 1,
   "id": "d61e96d8",
   "metadata": {},
   "outputs": [],
   "source": [
    "import matplotlib.pyplot as plt\n",
    "import numpy as np\n",
    "from scipy.optimize import curve_fit\n",
    "\n",
    "# The below commands make the font and image size bigger\n",
    "plt.rcParams.update({'font.size': 26})\n",
    "plt.rcParams[\"figure.figsize\"] = (10,8)"
   ]
  },
  {
   "cell_type": "markdown",
   "id": "7f8824bd",
   "metadata": {},
   "source": [
    "# Copper"
   ]
  },
  {
   "cell_type": "code",
   "execution_count": 2,
   "id": "1a9a1880",
   "metadata": {},
   "outputs": [],
   "source": [
    "#6.5 kHz\n",
    "current, voltage = np.loadtxt(\"voltErr_6.5kHz.txt\", skiprows=1, unpack=True)\n",
    "\n",
    "def linearFit(x, m, c):\n",
    "    return m*x + c\n",
    "\n",
    "pars6, cov6 = curve_fit(linearFit, current, voltage)"
   ]
  },
  {
   "cell_type": "code",
   "execution_count": 3,
   "id": "454cfd2d",
   "metadata": {},
   "outputs": [],
   "source": [
    "#plt.scatter(current, voltage)\n",
    "#plt.plot(np.arange(18, 20, 0.1), linearFit(np.arange(18, 20, 0.1), pars6[0], pars6[1]), color=\"orange\")"
   ]
  },
  {
   "cell_type": "code",
   "execution_count": 4,
   "id": "29defd5c",
   "metadata": {},
   "outputs": [],
   "source": [
    "#15 kHz\n",
    "current15, voltage15 = np.loadtxt(\"voltErr_15kHz.txt\", skiprows=1, unpack=True)\n",
    "pars15, cov15 = curve_fit(linearFit, current15, voltage15)\n",
    "\n",
    "#plt.scatter(current15, voltage15)\n",
    "#plt.plot(np.arange(18, 20, 0.1), linearFit(np.arange(18, 20, 0.1), pars15[0], pars15[1]), color=\"orange\")"
   ]
  },
  {
   "cell_type": "code",
   "execution_count": 5,
   "id": "cc576995",
   "metadata": {},
   "outputs": [],
   "source": [
    "#30 kHz\n",
    "current30, voltage30 = np.loadtxt(\"voltErr_30kHz.txt\", skiprows=1, unpack=True)\n",
    "pars30, cov30 = curve_fit(linearFit, current30, voltage30)\n",
    "\n",
    "#plt.scatter(current30, voltage30)\n",
    "#plt.plot(np.arange(18, 20, 0.1), linearFit(np.arange(18, 20, 0.1), pars30[0], pars30[1]), color=\"orange\")"
   ]
  },
  {
   "cell_type": "code",
   "execution_count": 6,
   "id": "915f06c2",
   "metadata": {},
   "outputs": [],
   "source": [
    "#40 kHz\n",
    "current40, voltage40 = np.loadtxt(\"voltErr_40kHz.txt\", skiprows=1, unpack=True)\n",
    "pars40, cov40 = curve_fit(linearFit, current40, voltage40)\n",
    "\n",
    "#plt.scatter(current40, voltage40)\n",
    "#plt.plot(np.arange(18, 20, 0.1), linearFit(np.arange(18, 20, 0.1), pars40[0], pars40[1]), color=\"orange\")"
   ]
  },
  {
   "cell_type": "code",
   "execution_count": 7,
   "id": "c3eda5e3",
   "metadata": {},
   "outputs": [
    {
     "name": "stdout",
     "output_type": "stream",
     "text": [
      "[0.04916692007540302, 0.06841721320684169, 0.13091815376812654, 0.17377456901789046]\n"
     ]
    }
   ],
   "source": [
    "# Testing if the range is the same irrespective of frequency\n",
    "\n",
    "uncertainties = list()\n",
    "\n",
    "# printing half the range, ie. the uncertainty\n",
    "# this is done for several frequencies to test if linear\n",
    "uncertainties.append((linearFit(19.1, pars6[0], pars6[1]) - linearFit(18.9, pars6[0], pars6[1])) / 2)\n",
    "uncertainties.append((linearFit(19.1, pars15[0], pars15[1]) - linearFit(18.9, pars15[0], pars15[1])) / 2)\n",
    "uncertainties.append((linearFit(19.1, pars30[0], pars30[1]) - linearFit(18.9, pars30[0], pars30[1])) / 2)\n",
    "uncertainties.append((linearFit(19.1, pars40[0], pars40[1]) - linearFit(18.9, pars40[0], pars40[1])) / 2)\n",
    "\n",
    "print(uncertainties)"
   ]
  },
  {
   "cell_type": "markdown",
   "id": "6d016eaa",
   "metadata": {},
   "source": [
    "# Aluminium"
   ]
  },
  {
   "cell_type": "code",
   "execution_count": 8,
   "id": "be1ab3d9",
   "metadata": {},
   "outputs": [],
   "source": [
    "#10 kHz\n",
    "a_current10, a_voltage10 = np.loadtxt(\"voltErr_alu_10.txt\", skiprows=1, unpack=True)\n",
    "a_pars10, a_cov10 = curve_fit(linearFit, a_current10, a_voltage10)"
   ]
  },
  {
   "cell_type": "code",
   "execution_count": 9,
   "id": "890ace23",
   "metadata": {},
   "outputs": [],
   "source": [
    "#20 kHz\n",
    "a_current20, a_voltage20 = np.loadtxt(\"voltErr_alu_20.txt\", skiprows=1, unpack=True)\n",
    "a_pars20, a_cov20 = curve_fit(linearFit, a_current20, a_voltage20)"
   ]
  },
  {
   "cell_type": "code",
   "execution_count": 10,
   "id": "0a0b1fe7",
   "metadata": {},
   "outputs": [],
   "source": [
    "#30 kHz\n",
    "a_current30, a_voltage30 = np.loadtxt(\"voltErr_alu_30.txt\", skiprows=1, unpack=True)\n",
    "a_pars30, a_cov30 = curve_fit(linearFit, a_current30, a_voltage30)"
   ]
  },
  {
   "cell_type": "code",
   "execution_count": 11,
   "id": "a5a93d09",
   "metadata": {},
   "outputs": [],
   "source": [
    "#40 kHz\n",
    "a_current40, a_voltage40 = np.loadtxt(\"voltErr_alu_40.txt\", skiprows=1, unpack=True)\n",
    "a_pars40, a_cov40 = curve_fit(linearFit, a_current40, a_voltage40)"
   ]
  },
  {
   "cell_type": "code",
   "execution_count": 12,
   "id": "f03d245c",
   "metadata": {},
   "outputs": [
    {
     "name": "stdout",
     "output_type": "stream",
     "text": [
      "[0.07034136916004297, 0.11132532464954714, 0.11995923611597625, 0.15736806755850097]\n"
     ]
    }
   ],
   "source": [
    "a_uncertainties = list()\n",
    "\n",
    "# printing half the range, ie. the uncertainty\n",
    "# this is done for several frequencies to test if linear\n",
    "a_uncertainties.append((linearFit(19.1, a_pars10[0], a_pars10[1]) - linearFit(18.9, a_pars10[0], a_pars10[1])) / 2)\n",
    "a_uncertainties.append((linearFit(19.1, a_pars20[0], a_pars20[1]) - linearFit(18.9, a_pars20[0], a_pars20[1])) / 2)\n",
    "a_uncertainties.append((linearFit(19.1, a_pars30[0], a_pars30[1]) - linearFit(18.9, a_pars30[0], a_pars30[1])) / 2)\n",
    "a_uncertainties.append((linearFit(19.1, a_pars40[0], a_pars40[1]) - linearFit(18.9, a_pars40[0], a_pars40[1])) / 2)\n",
    "\n",
    "print(a_uncertainties)"
   ]
  },
  {
   "cell_type": "markdown",
   "id": "7a77e781",
   "metadata": {},
   "source": [
    "# Brass"
   ]
  },
  {
   "cell_type": "code",
   "execution_count": 13,
   "id": "f7728c0f",
   "metadata": {},
   "outputs": [],
   "source": [
    "#10 kHz\n",
    "b_current10, b_voltage10 = np.loadtxt(\"voltErr_bra_10.txt\", skiprows=1, unpack=True)\n",
    "b_pars10, b_cov10 = curve_fit(linearFit, b_current10, b_voltage10)"
   ]
  },
  {
   "cell_type": "code",
   "execution_count": 14,
   "id": "013dc909",
   "metadata": {},
   "outputs": [],
   "source": [
    "#20 kHz\n",
    "b_current20, b_voltage20 = np.loadtxt(\"voltErr_bra_20.txt\", skiprows=1, unpack=True)\n",
    "b_pars20, b_cov20 = curve_fit(linearFit, b_current20, b_voltage20)"
   ]
  },
  {
   "cell_type": "code",
   "execution_count": 15,
   "id": "63c21a88",
   "metadata": {},
   "outputs": [],
   "source": [
    "#30 kHz\n",
    "b_current30, b_voltage30 = np.loadtxt(\"voltErr_bra_30.txt\", skiprows=1, unpack=True)\n",
    "b_pars30, b_cov30 = curve_fit(linearFit, b_current30, b_voltage30)"
   ]
  },
  {
   "cell_type": "code",
   "execution_count": 16,
   "id": "8e4f0a8a",
   "metadata": {},
   "outputs": [],
   "source": [
    "#40 kHz\n",
    "b_current40, b_voltage40 = np.loadtxt(\"voltErr_bra_40.txt\", skiprows=1, unpack=True)\n",
    "b_pars40, b_cov40 = curve_fit(linearFit, b_current40, b_voltage40)"
   ]
  },
  {
   "cell_type": "code",
   "execution_count": 17,
   "id": "8ba28361",
   "metadata": {},
   "outputs": [
    {
     "name": "stdout",
     "output_type": "stream",
     "text": [
      "[0.08568959859794312, 0.13562857064466272, 0.2368311362170843, 0.24426330836692856]\n"
     ]
    }
   ],
   "source": [
    "b_uncertainties = list()\n",
    "\n",
    "# printing half the range, ie. the uncertainty\n",
    "# this is done for several frequencies to test if linear\n",
    "b_uncertainties.append((linearFit(19.1, b_pars10[0], b_pars10[1]) - linearFit(18.9, b_pars10[0], b_pars10[1])) / 2)\n",
    "b_uncertainties.append((linearFit(19.1, b_pars20[0], b_pars20[1]) - linearFit(18.9, b_pars20[0], b_pars20[1])) / 2)\n",
    "b_uncertainties.append((linearFit(19.1, b_pars30[0], b_pars30[1]) - linearFit(18.9, b_pars30[0], b_pars30[1])) / 2)\n",
    "b_uncertainties.append((linearFit(19.1, b_pars40[0], b_pars40[1]) - linearFit(18.9, b_pars40[0], b_pars40[1])) / 2)\n",
    "\n",
    "print(b_uncertainties)"
   ]
  },
  {
   "cell_type": "markdown",
   "id": "832357a3",
   "metadata": {},
   "source": [
    "# Steel"
   ]
  },
  {
   "cell_type": "code",
   "execution_count": 21,
   "id": "264baa12",
   "metadata": {},
   "outputs": [],
   "source": [
    "#10 kHz\n",
    "s_current10, s_voltage10 = np.loadtxt(\"voltErr_ste_10.txt\", skiprows=1, unpack=True)\n",
    "s_pars10, s_cov10 = curve_fit(linearFit, s_current10, s_voltage10)\n",
    "#plt.scatter(s_current10, s_voltage10)\n",
    "#plt.plot(np.arange(18, 20, 0.1), linearFit(np.arange(18, 20, 0.1), s_pars10[0], s_pars10[1]), color=\"orange\")"
   ]
  },
  {
   "cell_type": "code",
   "execution_count": 22,
   "id": "b2f9f640",
   "metadata": {},
   "outputs": [],
   "source": [
    "#20 kHz\n",
    "s_current20, s_voltage20 = np.loadtxt(\"voltErr_ste_20.txt\", skiprows=1, unpack=True)\n",
    "s_pars20, s_cov20 = curve_fit(linearFit, s_current20, s_voltage20)"
   ]
  },
  {
   "cell_type": "code",
   "execution_count": 23,
   "id": "956afcb9",
   "metadata": {},
   "outputs": [],
   "source": [
    "#30 kHz\n",
    "s_current30, s_voltage30 = np.loadtxt(\"voltErr_ste_30.txt\", skiprows=1, unpack=True)\n",
    "s_pars30, s_cov30 = curve_fit(linearFit, s_current30, s_voltage30)"
   ]
  },
  {
   "cell_type": "code",
   "execution_count": 24,
   "id": "5b995ff4",
   "metadata": {},
   "outputs": [],
   "source": [
    "#40 kHz\n",
    "s_current40, s_voltage40 = np.loadtxt(\"voltErr_ste_40.txt\", skiprows=1, unpack=True)\n",
    "s_pars40, s_cov40 = curve_fit(linearFit, s_current40, s_voltage40)"
   ]
  },
  {
   "cell_type": "code",
   "execution_count": 25,
   "id": "4cc026a5",
   "metadata": {},
   "outputs": [
    {
     "name": "stdout",
     "output_type": "stream",
     "text": [
      "[1.1371245115032877, 1.6627686646639006, 2.1504610160066306, 2.7035097899189964]\n"
     ]
    }
   ],
   "source": [
    "s_uncertainties = list()\n",
    "\n",
    "# printing half the range, ie. the uncertainty\n",
    "# this is done for several frequencies to test if linear\n",
    "s_uncertainties.append((linearFit(19.1, s_pars10[0], s_pars10[1]) - linearFit(18.9, s_pars10[0], s_pars10[1])) / 2)\n",
    "s_uncertainties.append((linearFit(19.1, s_pars20[0], s_pars20[1]) - linearFit(18.9, s_pars20[0], s_pars20[1])) / 2)\n",
    "s_uncertainties.append((linearFit(19.1, s_pars30[0], s_pars30[1]) - linearFit(18.9, s_pars30[0], s_pars30[1])) / 2)\n",
    "s_uncertainties.append((linearFit(19.1, s_pars40[0], s_pars40[1]) - linearFit(18.9, s_pars40[0], s_pars40[1])) / 2)\n",
    "\n",
    "print(s_uncertainties)"
   ]
  },
  {
   "cell_type": "code",
   "execution_count": null,
   "id": "fdf72464",
   "metadata": {},
   "outputs": [],
   "source": []
  }
 ],
 "metadata": {
  "kernelspec": {
   "display_name": "Python 3",
   "language": "python",
   "name": "python3"
  },
  "language_info": {
   "codemirror_mode": {
    "name": "ipython",
    "version": 3
   },
   "file_extension": ".py",
   "mimetype": "text/x-python",
   "name": "python",
   "nbconvert_exporter": "python",
   "pygments_lexer": "ipython3",
   "version": "3.8.8"
  }
 },
 "nbformat": 4,
 "nbformat_minor": 5
}
